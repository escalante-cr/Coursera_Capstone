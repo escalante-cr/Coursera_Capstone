{
    "cells": [
        {
            "cell_type": "markdown",
            "metadata": {
                "collapsed": true
            },
            "source": "# Landscaping Startups in Portland, Oregon, United States"
        },
        {
            "cell_type": "markdown",
            "metadata": {},
            "source": "## Business Problem"
        },
        {
            "cell_type": "markdown",
            "metadata": {},
            "source": "The neighborhoods in the city of Portland often have a variety of natural and artificial landscapes that need stewardship and maintenance. Venues may include parks, garden centers, country clubs, florists, hardware stores, private residences, and any business that caters to creating, maintaining, and managing vegetation and landscapes. \n\nA hypothetical group of investors is looking to start a landscaping business that maintains, desings, and installs vegetation in public and private spaces. It would behoove this group of stakeholders to determine in which neighbourhoods they find the most amount of these locations. \n\nThis information would allow them to decide where they should place their new landscaping business; such that travel times between clients and appointments is reduced and their ability to reach customers improves. On the other hand, venue category may provide useful intelligence for deciding which neighborhood is closest to businesses the sell the inputs the startup will need more ocassionally: seed, plants, fertilizer, pesticides, or similar hardware.  Likewise, results may also allow them to determine in which neighborhoods they should spend resources researching the market and possible competitors."
        },
        {
            "cell_type": "markdown",
            "metadata": {},
            "source": "![This landscape could use some mowing](https://img.timeinc.net/time/2010/portland_tavel/portland_park.jpg)\n\n<p style=\"text-align: center;\">A park in the city of Portland that could use a mowing.</p>"
        },
        {
            "cell_type": "markdown",
            "metadata": {},
            "source": "## Data"
        },
        {
            "cell_type": "markdown",
            "metadata": {},
            "source": "We will use Foursquare location data to access venue categories in Portland. We will determine neighborhood locations in the city of Portland by scraping several lists from the [Neighborhoods of Portland, Oregon](https://en.wikipedia.org/wiki/Neighborhoods_of_Portland,_Oregon) site. The list will be sorted and cleaned so that we can parse it to the geocoder and determine geographical locations for each neighborhood. Following this, we will explore each neighborhood within a 1000 m radius for venues. We will categorize the venues and determine which categories are most related to landscaping and gardening businesses. We will classify each neighborhood according to their rate of landscaping-related businesses. This will allow us to make a recommendation for which neighborhoods the investors should pay closer attention to."
        },
        {
            "cell_type": "code",
            "execution_count": 1,
            "metadata": {},
            "outputs": [],
            "source": "import pandas as pd\nimport numpy as np"
        },
        {
            "cell_type": "code",
            "execution_count": 2,
            "metadata": {},
            "outputs": [
                {
                    "name": "stdout",
                    "output_type": "stream",
                    "text": "Hello Capstone Project Course!\n"
                }
            ],
            "source": "print(\"Hello Capstone Project Course!\")"
        },
        {
            "cell_type": "code",
            "execution_count": null,
            "metadata": {},
            "outputs": [],
            "source": ""
        }
    ],
    "metadata": {
        "kernelspec": {
            "display_name": "Python 3.6",
            "language": "python",
            "name": "python3"
        },
        "language_info": {
            "codemirror_mode": {
                "name": "ipython",
                "version": 3
            },
            "file_extension": ".py",
            "mimetype": "text/x-python",
            "name": "python",
            "nbconvert_exporter": "python",
            "pygments_lexer": "ipython3",
            "version": "3.6.9"
        }
    },
    "nbformat": 4,
    "nbformat_minor": 1
}