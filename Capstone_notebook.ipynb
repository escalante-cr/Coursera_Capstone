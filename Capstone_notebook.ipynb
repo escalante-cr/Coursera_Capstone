{
    "cells": [
        {
            "cell_type": "markdown",
            "metadata": {
                "collapsed": true
            },
            "source": "# Landscaping Startups in Portland, Oregon, United States"
        },
        {
            "cell_type": "markdown",
            "metadata": {},
            "source": "### Business Problem"
        },
        {
            "cell_type": "markdown",
            "metadata": {},
            "source": "The neighborhoods in the city of Portland often have a variety of natural and artificial landscapes that need stewardship and maintenance. Venues may include parks, garden centers, country clubs, florists, hardware stores, private residences, and any business that caters to creating, maintaining, and managing vegetation and landscapes. \n\nA hypothetical group of investors is looking to start a landscaping business that maintains, desings, and installs vegetation in public and private spaces. It would behoove this group of stakeholders to determine in which neighbourhoods they find the most amount of these locations. \n\nThis information would allow them to decide where they should place their new landscaping business; such that travel times between clients and appointments is reduced and their ability to reach customers improves. On the other hand, venue category may provide useful intelligence for deciding which neighborhood is closest to businesses the sell the inputs the startup will need more ocassionally: seed, plants, fertilizer, pesticides, or similar hardware.  Likewise, results may also allow them to determine in which neighborhoods they should spend resources researching the market and possible competitors."
        },
        {
            "cell_type": "markdown",
            "metadata": {},
            "source": "![This landscape could use some mowing](https://img.timeinc.net/time/2010/portland_tavel/portland_park.jpg)\n\n<p style=\"text-align: center;\">A park in the city of Portland that could use a mowing.</p>"
        },
        {
            "cell_type": "markdown",
            "metadata": {},
            "source": "### Data"
        },
        {
            "cell_type": "markdown",
            "metadata": {},
            "source": "We will use Foursquare location data to access venue categories in Portland. We will determine neighborhood locations in the city of Portland by scraping several lists from the [Neighborhoods of Portland, Oregon](https://portlandneighborhood.com/portland-neighborhoods) site. The list will be sorted and cleaned so that we can parse it to the geocoder and determine geographical locations for each neighborhood. Following this, we will explore each neighborhood within a 1000 m radius for venues. We will categorize the venues and determine which categories are most related to landscaping and gardening businesses. We will classify each neighborhood according to their rate of landscaping-related businesses. This will allow us to make a recommendation for which neighborhoods the investors should pay closer attention to."
        },
        {
            "cell_type": "markdown",
            "metadata": {},
            "source": "## 1. Importing packages"
        },
        {
            "cell_type": "code",
            "execution_count": 2,
            "metadata": {},
            "outputs": [
                {
                    "name": "stdout",
                    "output_type": "stream",
                    "text": "Solving environment: done\n\n## Package Plan ##\n\n  environment location: /opt/conda/envs/Python36\n\n  added / updated specs: \n    - folium=0.5.0\n\n\nThe following packages will be downloaded:\n\n    package                    |            build\n    ---------------------------|-----------------\n    ca-certificates-2020.6.20  |       hecda079_0         145 KB  conda-forge\n    vincent-0.4.4              |             py_1          28 KB  conda-forge\n    python_abi-3.6             |          1_cp36m           4 KB  conda-forge\n    openssl-1.1.1g             |       h516909a_1         2.1 MB  conda-forge\n    folium-0.5.0               |             py_0          45 KB  conda-forge\n    altair-4.1.0               |             py_1         614 KB  conda-forge\n    branca-0.4.1               |             py_0          26 KB  conda-forge\n    certifi-2020.6.20          |   py36h9f0ad1d_0         151 KB  conda-forge\n    ------------------------------------------------------------\n                                           Total:         3.1 MB\n\nThe following NEW packages will be INSTALLED:\n\n    altair:          4.1.0-py_1        conda-forge\n    branca:          0.4.1-py_0        conda-forge\n    folium:          0.5.0-py_0        conda-forge\n    python_abi:      3.6-1_cp36m       conda-forge\n    vincent:         0.4.4-py_1        conda-forge\n\nThe following packages will be UPDATED:\n\n    certifi:         2020.6.20-py36_0              --> 2020.6.20-py36h9f0ad1d_0 conda-forge\n    openssl:         1.1.1g-h7b6447c_0             --> 1.1.1g-h516909a_1        conda-forge\n\nThe following packages will be DOWNGRADED:\n\n    ca-certificates: 2020.6.24-0                   --> 2020.6.20-hecda079_0     conda-forge\n\n\nDownloading and Extracting Packages\nca-certificates-2020 | 145 KB    | ##################################### | 100% \nvincent-0.4.4        | 28 KB     | ##################################### | 100% \npython_abi-3.6       | 4 KB      | ##################################### | 100% \nopenssl-1.1.1g       | 2.1 MB    | ##################################### | 100% \nfolium-0.5.0         | 45 KB     | ##################################### | 100% \naltair-4.1.0         | 614 KB    | ##################################### | 100% \nbranca-0.4.1         | 26 KB     | ##################################### | 100% \ncertifi-2020.6.20    | 151 KB    | ##################################### | 100% \nPreparing transaction: done\nVerifying transaction: done\nExecuting transaction: done\nLibraries imported.\n"
                }
            ],
            "source": "import numpy as np # library to handle data in a vectorized manner\n\nimport pandas as pd # library for data analysis\npd.set_option('display.max_columns', None)\npd.set_option('display.max_rows', None)\n\nimport json # library to handle JSON files\n\n#!conda install -c conda-forge geopy --yes # uncomment this line if you haven't completed the Foursquare API lab\nfrom geopy.geocoders import Nominatim # convert an address into latitude and longitude values\n\nimport requests # library to handle requests\nfrom pandas.io.json import json_normalize # tranform JSON file into a pandas dataframe\n\n# Matplotlib and associated plotting modules\nimport matplotlib.cm as cm\nimport matplotlib.colors as colors\n\n# import k-means from clustering stage\nfrom sklearn.cluster import KMeans\n\n!conda install -c conda-forge folium=0.5.0 --yes # uncomment this line if you haven't completed the Foursquare API lab\nimport folium # map rendering library\n\n\nfrom bs4 import BeautifulSoup # We use beautiful soup to scrape the website from Portland's local government site\n\n\n\nprint('Libraries imported.')"
        },
        {
            "cell_type": "code",
            "execution_count": 73,
            "metadata": {},
            "outputs": [
                {
                    "name": "stdout",
                    "output_type": "stream",
                    "text": "0 None\n1 None\n2 None\n3 None\n4 None\n5 None\n6 None\n7 Events\n8 News\n9 None\n10 Go here\n11 Portland zip codes\n12 Arbor Lodge\n13 Boise & Historic Mississippi Avenue\n14 Bridgeton\n15 Cathedral Park\n16 East Columbia\n17 Eliot\n18 Hayden Island\n19 Humboldt\n20 Kenton\n21 Overlook\n22 Piedmont\n23 Portsmouth\n24 St. Johns\n25 University Park\n26 Arlington Heights\n27 Forest Park\n28 Goose Hollow\n29 Hillside\n30 Linnton\n31 Northwest Heights\n32 NW 21st & 23rd Avenue \u2013 Nob Hill\n33 Sylvan Highlands\n34 Alameda\n35 Alberta Arts District\n36 Beaumont-Wilshire\n37 North Tabor\n38 Concordia\n39 Cully\n40 Grant Park\n41 Hollywood\n42 Irvington\n43 King\n44 Madison South\n45 Rose City Park\n46 Roseway\n47 Sabin\n48 Sullivan\u2019s Gulch\n49 Sumner\n50 Vernon\n51 Woodlawn\n52 China Town/Old Town\n53 Downtown\n54 Lloyd Center\n55 Pearl District\n56 South Waterfront\n57 Arnold Creek\n58 Ashcreek\n59 Bridlemile\n60 Collins View\n61 Far Southwest\n62 Hayhurst\n63 Healy Heights\n64 Hillsdale\n65 Homestead\n66 Maplewood\n67 Markham\n68 Marshall Park\n69 Multnomah\n70 South Burlingame\n71 Southwest Hills\n72 West Portland Park\n73 Belmont\n74 Brentwood \u2013 Darlington\n75 Brooklyn\n76 Buckman\n77 Creston \u2013 Kenilworth\n78 Eastmoreland\n79 Foster-Powell\n80 Hawthorne\n81 Hosford-Abernethy\n82 Kerns\n83 Laurelhurst\n84 Montavilla\n85 Mount Scott\n86 Mount Tabor\n87 Reed\n88 Richmond\n89 Sellwood \u2013 Moreland\n90 South Tabor\n91 Sunnyside\n92 Woodstock\n93 Argay\n94 Centennial\n95 Glenfair\n96 Hazelwood\n97 Lents\n98 Mill Park\n99 Parkrose\n100 Parkrose Heights\n101 Pleasant Valley\n102 Powellhurst Gilbert\n103 Russell\n104 Wilkes\n105  Hosford Abernethy & Clinton Guide \n106  Montavilla Neighborhood Guide \n107  Eastmoreland Neighborhood Guide \n108  Creston Kenilworth Neighborhood \n109  Lents Neighborhood Guide \n110 None\n111 None\n112 None\n113 None\n114 None\n115 None\n116 None\n117 None\n118 None\n119 None\n120 None\n121 None\n122 None\n123 None\n124 None\n125 None\n126 None\n127 None\n128 None\n129 None\n130 None\n131 None\n132 None\n133 Portland\u2019s MAX Light Rail: Where\u2019s it going in 2020?\n134 None\n135 2021 Portland Real Estate Market Forecast\n136 None\n137 Portland Home Testing: Wood Stove Removal 2020\n138 None\n139 How Many Showings on Average to Sell a House? \u2013 2020 update\n140 None\n141 Portland Real Estate Bubble \u2013 Housing Market Crash 2021\n142 None\n143 None\n144 None\n145 None\n146 None\n147 None\n148 None\n149 None\n150 None\n151 None\n152 None\n153 None\n154 None\n155 None\n156 None\n157 None\n158 None\n159 None\n160 None\n161 None\n162 None\n163 None\n164 None\n165 None\n166 None\n167 None\n168 None\n"
                }
            ],
            "source": "site = 'https://portlandneighborhood.com/portland-neighborhoods'\nnhs = requests.get(site)\nsoup = BeautifulSoup(nhs.text, \"html.parser\")\n\nnhs_list = soup.find_all(\"a\")\nnhs_list[12:22]\n\nportland = []\n\nfor child, num in zip(nhs_list, enumerate(nhs_list)): # For loop produces the strings in all the 'a' tags of our soup\n    portland.append(child.string)\n    print(num[0], child.string) # the row number tells us where to slice. We know from the website where the list starts and ends.\n    \n"
        },
        {
            "cell_type": "code",
            "execution_count": 76,
            "metadata": {},
            "outputs": [
                {
                    "data": {
                        "text/html": "<div>\n<style scoped>\n    .dataframe tbody tr th:only-of-type {\n        vertical-align: middle;\n    }\n\n    .dataframe tbody tr th {\n        vertical-align: top;\n    }\n\n    .dataframe thead th {\n        text-align: right;\n    }\n</style>\n<table border=\"1\" class=\"dataframe\">\n  <thead>\n    <tr style=\"text-align: right;\">\n      <th></th>\n      <th>Neighborhood</th>\n    </tr>\n  </thead>\n  <tbody>\n    <tr>\n      <th>0</th>\n      <td>Arbor Lodge</td>\n    </tr>\n    <tr>\n      <th>1</th>\n      <td>Boise &amp; Historic Mississippi Avenue</td>\n    </tr>\n    <tr>\n      <th>2</th>\n      <td>Bridgeton</td>\n    </tr>\n    <tr>\n      <th>3</th>\n      <td>Cathedral Park</td>\n    </tr>\n    <tr>\n      <th>4</th>\n      <td>East Columbia</td>\n    </tr>\n    <tr>\n      <th>5</th>\n      <td>Eliot</td>\n    </tr>\n    <tr>\n      <th>6</th>\n      <td>Hayden Island</td>\n    </tr>\n    <tr>\n      <th>7</th>\n      <td>Humboldt</td>\n    </tr>\n    <tr>\n      <th>8</th>\n      <td>Kenton</td>\n    </tr>\n    <tr>\n      <th>9</th>\n      <td>Overlook</td>\n    </tr>\n    <tr>\n      <th>10</th>\n      <td>Piedmont</td>\n    </tr>\n    <tr>\n      <th>11</th>\n      <td>Portsmouth</td>\n    </tr>\n    <tr>\n      <th>12</th>\n      <td>St. Johns</td>\n    </tr>\n    <tr>\n      <th>13</th>\n      <td>University Park</td>\n    </tr>\n    <tr>\n      <th>14</th>\n      <td>Arlington Heights</td>\n    </tr>\n    <tr>\n      <th>15</th>\n      <td>Forest Park</td>\n    </tr>\n    <tr>\n      <th>16</th>\n      <td>Goose Hollow</td>\n    </tr>\n    <tr>\n      <th>17</th>\n      <td>Hillside</td>\n    </tr>\n    <tr>\n      <th>18</th>\n      <td>Linnton</td>\n    </tr>\n    <tr>\n      <th>19</th>\n      <td>Northwest Heights</td>\n    </tr>\n    <tr>\n      <th>20</th>\n      <td>NW 21st &amp; 23rd Avenue \u2013 Nob Hill</td>\n    </tr>\n    <tr>\n      <th>21</th>\n      <td>Sylvan Highlands</td>\n    </tr>\n    <tr>\n      <th>22</th>\n      <td>Alameda</td>\n    </tr>\n    <tr>\n      <th>23</th>\n      <td>Alberta Arts District</td>\n    </tr>\n    <tr>\n      <th>24</th>\n      <td>Beaumont-Wilshire</td>\n    </tr>\n    <tr>\n      <th>25</th>\n      <td>North Tabor</td>\n    </tr>\n    <tr>\n      <th>26</th>\n      <td>Concordia</td>\n    </tr>\n    <tr>\n      <th>27</th>\n      <td>Cully</td>\n    </tr>\n    <tr>\n      <th>28</th>\n      <td>Grant Park</td>\n    </tr>\n    <tr>\n      <th>29</th>\n      <td>Hollywood</td>\n    </tr>\n    <tr>\n      <th>30</th>\n      <td>Irvington</td>\n    </tr>\n    <tr>\n      <th>31</th>\n      <td>King</td>\n    </tr>\n    <tr>\n      <th>32</th>\n      <td>Madison South</td>\n    </tr>\n    <tr>\n      <th>33</th>\n      <td>Rose City Park</td>\n    </tr>\n    <tr>\n      <th>34</th>\n      <td>Roseway</td>\n    </tr>\n    <tr>\n      <th>35</th>\n      <td>Sabin</td>\n    </tr>\n    <tr>\n      <th>36</th>\n      <td>Sullivan\u2019s Gulch</td>\n    </tr>\n    <tr>\n      <th>37</th>\n      <td>Sumner</td>\n    </tr>\n    <tr>\n      <th>38</th>\n      <td>Vernon</td>\n    </tr>\n    <tr>\n      <th>39</th>\n      <td>Woodlawn</td>\n    </tr>\n    <tr>\n      <th>40</th>\n      <td>China Town/Old Town</td>\n    </tr>\n    <tr>\n      <th>41</th>\n      <td>Downtown</td>\n    </tr>\n    <tr>\n      <th>42</th>\n      <td>Lloyd Center</td>\n    </tr>\n    <tr>\n      <th>43</th>\n      <td>Pearl District</td>\n    </tr>\n    <tr>\n      <th>44</th>\n      <td>South Waterfront</td>\n    </tr>\n    <tr>\n      <th>45</th>\n      <td>Arnold Creek</td>\n    </tr>\n    <tr>\n      <th>46</th>\n      <td>Ashcreek</td>\n    </tr>\n    <tr>\n      <th>47</th>\n      <td>Bridlemile</td>\n    </tr>\n    <tr>\n      <th>48</th>\n      <td>Collins View</td>\n    </tr>\n    <tr>\n      <th>49</th>\n      <td>Far Southwest</td>\n    </tr>\n    <tr>\n      <th>50</th>\n      <td>Hayhurst</td>\n    </tr>\n    <tr>\n      <th>51</th>\n      <td>Healy Heights</td>\n    </tr>\n    <tr>\n      <th>52</th>\n      <td>Hillsdale</td>\n    </tr>\n    <tr>\n      <th>53</th>\n      <td>Homestead</td>\n    </tr>\n    <tr>\n      <th>54</th>\n      <td>Maplewood</td>\n    </tr>\n    <tr>\n      <th>55</th>\n      <td>Markham</td>\n    </tr>\n    <tr>\n      <th>56</th>\n      <td>Marshall Park</td>\n    </tr>\n    <tr>\n      <th>57</th>\n      <td>Multnomah</td>\n    </tr>\n    <tr>\n      <th>58</th>\n      <td>South Burlingame</td>\n    </tr>\n    <tr>\n      <th>59</th>\n      <td>Southwest Hills</td>\n    </tr>\n    <tr>\n      <th>60</th>\n      <td>West Portland Park</td>\n    </tr>\n    <tr>\n      <th>61</th>\n      <td>Belmont</td>\n    </tr>\n    <tr>\n      <th>62</th>\n      <td>Brentwood \u2013 Darlington</td>\n    </tr>\n    <tr>\n      <th>63</th>\n      <td>Brooklyn</td>\n    </tr>\n    <tr>\n      <th>64</th>\n      <td>Buckman</td>\n    </tr>\n    <tr>\n      <th>65</th>\n      <td>Creston \u2013 Kenilworth</td>\n    </tr>\n    <tr>\n      <th>66</th>\n      <td>Eastmoreland</td>\n    </tr>\n    <tr>\n      <th>67</th>\n      <td>Foster-Powell</td>\n    </tr>\n    <tr>\n      <th>68</th>\n      <td>Hawthorne</td>\n    </tr>\n    <tr>\n      <th>69</th>\n      <td>Hosford-Abernethy</td>\n    </tr>\n    <tr>\n      <th>70</th>\n      <td>Kerns</td>\n    </tr>\n    <tr>\n      <th>71</th>\n      <td>Laurelhurst</td>\n    </tr>\n    <tr>\n      <th>72</th>\n      <td>Montavilla</td>\n    </tr>\n    <tr>\n      <th>73</th>\n      <td>Mount Scott</td>\n    </tr>\n    <tr>\n      <th>74</th>\n      <td>Mount Tabor</td>\n    </tr>\n    <tr>\n      <th>75</th>\n      <td>Reed</td>\n    </tr>\n    <tr>\n      <th>76</th>\n      <td>Richmond</td>\n    </tr>\n    <tr>\n      <th>77</th>\n      <td>Sellwood \u2013 Moreland</td>\n    </tr>\n    <tr>\n      <th>78</th>\n      <td>South Tabor</td>\n    </tr>\n    <tr>\n      <th>79</th>\n      <td>Sunnyside</td>\n    </tr>\n    <tr>\n      <th>80</th>\n      <td>Woodstock</td>\n    </tr>\n    <tr>\n      <th>81</th>\n      <td>Argay</td>\n    </tr>\n    <tr>\n      <th>82</th>\n      <td>Centennial</td>\n    </tr>\n    <tr>\n      <th>83</th>\n      <td>Glenfair</td>\n    </tr>\n    <tr>\n      <th>84</th>\n      <td>Hazelwood</td>\n    </tr>\n    <tr>\n      <th>85</th>\n      <td>Lents</td>\n    </tr>\n    <tr>\n      <th>86</th>\n      <td>Mill Park</td>\n    </tr>\n    <tr>\n      <th>87</th>\n      <td>Parkrose</td>\n    </tr>\n    <tr>\n      <th>88</th>\n      <td>Parkrose Heights</td>\n    </tr>\n    <tr>\n      <th>89</th>\n      <td>Pleasant Valley</td>\n    </tr>\n    <tr>\n      <th>90</th>\n      <td>Powellhurst Gilbert</td>\n    </tr>\n    <tr>\n      <th>91</th>\n      <td>Russell</td>\n    </tr>\n    <tr>\n      <th>92</th>\n      <td>Wilkes</td>\n    </tr>\n  </tbody>\n</table>\n</div>",
                        "text/plain": "                           Neighborhood\n0                           Arbor Lodge\n1   Boise & Historic Mississippi Avenue\n2                             Bridgeton\n3                        Cathedral Park\n4                         East Columbia\n5                                 Eliot\n6                         Hayden Island\n7                              Humboldt\n8                                Kenton\n9                              Overlook\n10                             Piedmont\n11                           Portsmouth\n12                            St. Johns\n13                      University Park\n14                    Arlington Heights\n15                          Forest Park\n16                         Goose Hollow\n17                             Hillside\n18                              Linnton\n19                    Northwest Heights\n20     NW 21st & 23rd Avenue \u2013 Nob Hill\n21                     Sylvan Highlands\n22                              Alameda\n23                Alberta Arts District\n24                    Beaumont-Wilshire\n25                          North Tabor\n26                            Concordia\n27                                Cully\n28                           Grant Park\n29                            Hollywood\n30                            Irvington\n31                                 King\n32                        Madison South\n33                       Rose City Park\n34                              Roseway\n35                                Sabin\n36                     Sullivan\u2019s Gulch\n37                               Sumner\n38                               Vernon\n39                             Woodlawn\n40                  China Town/Old Town\n41                             Downtown\n42                         Lloyd Center\n43                       Pearl District\n44                     South Waterfront\n45                         Arnold Creek\n46                             Ashcreek\n47                           Bridlemile\n48                         Collins View\n49                        Far Southwest\n50                             Hayhurst\n51                        Healy Heights\n52                            Hillsdale\n53                            Homestead\n54                            Maplewood\n55                              Markham\n56                        Marshall Park\n57                            Multnomah\n58                     South Burlingame\n59                      Southwest Hills\n60                   West Portland Park\n61                              Belmont\n62               Brentwood \u2013 Darlington\n63                             Brooklyn\n64                              Buckman\n65                 Creston \u2013 Kenilworth\n66                         Eastmoreland\n67                        Foster-Powell\n68                            Hawthorne\n69                    Hosford-Abernethy\n70                                Kerns\n71                          Laurelhurst\n72                           Montavilla\n73                          Mount Scott\n74                          Mount Tabor\n75                                 Reed\n76                             Richmond\n77                  Sellwood \u2013 Moreland\n78                          South Tabor\n79                            Sunnyside\n80                            Woodstock\n81                                Argay\n82                           Centennial\n83                             Glenfair\n84                            Hazelwood\n85                                Lents\n86                            Mill Park\n87                             Parkrose\n88                     Parkrose Heights\n89                      Pleasant Valley\n90                  Powellhurst Gilbert\n91                              Russell\n92                               Wilkes"
                    },
                    "execution_count": 76,
                    "metadata": {},
                    "output_type": "execute_result"
                }
            ],
            "source": "portland_nhs = portland[12:105]\nportland_nhs = pd.DataFrame(data = {'Neighborhood':portland_nhs})\nportland_nhs"
        },
        {
            "cell_type": "code",
            "execution_count": 77,
            "metadata": {},
            "outputs": [],
            "source": "portland_nhs[1] = 'Boise'\nportland_nhs[20] = 'Nob Hill'\nportland_nhs[40] = 'Old Town'"
        },
        {
            "cell_type": "code",
            "execution_count": null,
            "metadata": {},
            "outputs": [],
            "source": ""
        }
    ],
    "metadata": {
        "kernelspec": {
            "display_name": "Python 3.6",
            "language": "python",
            "name": "python3"
        },
        "language_info": {
            "codemirror_mode": {
                "name": "ipython",
                "version": 3
            },
            "file_extension": ".py",
            "mimetype": "text/x-python",
            "name": "python",
            "nbconvert_exporter": "python",
            "pygments_lexer": "ipython3",
            "version": "3.6.9"
        }
    },
    "nbformat": 4,
    "nbformat_minor": 1
}