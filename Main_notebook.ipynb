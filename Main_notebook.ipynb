### This is the main notebook we will use for our capstone project.

import pandas as pd
import  numpy as np

print("Hello Capstone Project Course!")
