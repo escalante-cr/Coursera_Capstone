### This is the main notebook we will use for our capstone project.
